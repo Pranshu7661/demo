{
  "nbformat": 4,
  "nbformat_minor": 0,
  "metadata": {
    "colab": {
      "name": "London_uk",
      "provenance": []
    },
    "kernelspec": {
      "name": "python3",
      "display_name": "Python 3"
    },
    "language_info": {
      "name": "python"
    }
  },
  "cells": [
    {
      "cell_type": "code",
      "metadata": {
        "id": "g8LI9Vf5P9p3"
      },
      "source": [
        "import numpy as np\n",
        "import pandas as pd"
      ],
      "execution_count": null,
      "outputs": []
    },
    {
      "cell_type": "code",
      "metadata": {
        "colab": {
          "base_uri": "https://localhost:8080/"
        },
        "id": "TPgNm8UxQLLa",
        "outputId": "29b7bbe2-c58d-40fc-83c8-51171bc5008e"
      },
      "source": [
        "df = pd.read_csv('my.csv')\n",
        "\n",
        "print(df.head())"
      ],
      "execution_count": null,
      "outputs": [
        {
          "output_type": "stream",
          "text": [
            "   Unnamed: 0 Entity_name  NEGATIVE  POSITIVE  Total    Entity\n",
            "0           0          Uk      1088       230   1318  Location\n",
            "1           1      London       186        68    254  Location\n",
            "2           2    Scotland       172        49    221  Location\n",
            "3           3     England       149        43    192  Location\n",
            "4           4          Us       118        27    145  Location\n"
          ],
          "name": "stdout"
        }
      ]
    },
    {
      "cell_type": "code",
      "metadata": {
        "colab": {
          "base_uri": "https://localhost:8080/",
          "height": 200
        },
        "id": "pDW1qQFQQz2q",
        "outputId": "69f72b2f-3778-4987-c0b5-ea2327a30128"
      },
      "source": [
        "df2= df.drop(['Entity'], axis=1)\n",
        "df2.head()"
      ],
      "execution_count": null,
      "outputs": [
        {
          "output_type": "execute_result",
          "data": {
            "text/html": [
              "<div>\n",
              "<style scoped>\n",
              "    .dataframe tbody tr th:only-of-type {\n",
              "        vertical-align: middle;\n",
              "    }\n",
              "\n",
              "    .dataframe tbody tr th {\n",
              "        vertical-align: top;\n",
              "    }\n",
              "\n",
              "    .dataframe thead th {\n",
              "        text-align: right;\n",
              "    }\n",
              "</style>\n",
              "<table border=\"1\" class=\"dataframe\">\n",
              "  <thead>\n",
              "    <tr style=\"text-align: right;\">\n",
              "      <th></th>\n",
              "      <th>Unnamed: 0</th>\n",
              "      <th>Entity_name</th>\n",
              "      <th>NEGATIVE</th>\n",
              "      <th>POSITIVE</th>\n",
              "      <th>Total</th>\n",
              "    </tr>\n",
              "  </thead>\n",
              "  <tbody>\n",
              "    <tr>\n",
              "      <th>0</th>\n",
              "      <td>0</td>\n",
              "      <td>Uk</td>\n",
              "      <td>1088</td>\n",
              "      <td>230</td>\n",
              "      <td>1318</td>\n",
              "    </tr>\n",
              "    <tr>\n",
              "      <th>1</th>\n",
              "      <td>1</td>\n",
              "      <td>London</td>\n",
              "      <td>186</td>\n",
              "      <td>68</td>\n",
              "      <td>254</td>\n",
              "    </tr>\n",
              "    <tr>\n",
              "      <th>2</th>\n",
              "      <td>2</td>\n",
              "      <td>Scotland</td>\n",
              "      <td>172</td>\n",
              "      <td>49</td>\n",
              "      <td>221</td>\n",
              "    </tr>\n",
              "    <tr>\n",
              "      <th>3</th>\n",
              "      <td>3</td>\n",
              "      <td>England</td>\n",
              "      <td>149</td>\n",
              "      <td>43</td>\n",
              "      <td>192</td>\n",
              "    </tr>\n",
              "    <tr>\n",
              "      <th>4</th>\n",
              "      <td>4</td>\n",
              "      <td>Us</td>\n",
              "      <td>118</td>\n",
              "      <td>27</td>\n",
              "      <td>145</td>\n",
              "    </tr>\n",
              "  </tbody>\n",
              "</table>\n",
              "</div>"
            ],
            "text/plain": [
              "   Unnamed: 0 Entity_name  NEGATIVE  POSITIVE  Total\n",
              "0           0          Uk      1088       230   1318\n",
              "1           1      London       186        68    254\n",
              "2           2    Scotland       172        49    221\n",
              "3           3     England       149        43    192\n",
              "4           4          Us       118        27    145"
            ]
          },
          "metadata": {
            "tags": []
          },
          "execution_count": 3
        }
      ]
    },
    {
      "cell_type": "code",
      "metadata": {
        "colab": {
          "base_uri": "https://localhost:8080/"
        },
        "id": "YnUuCDBgR-nX",
        "outputId": "5f132c0f-9b95-40d3-81b3-7f45bdc77e7e"
      },
      "source": [
        "df2.shape"
      ],
      "execution_count": null,
      "outputs": [
        {
          "output_type": "execute_result",
          "data": {
            "text/plain": [
              "(607, 5)"
            ]
          },
          "metadata": {
            "tags": []
          },
          "execution_count": 4
        }
      ]
    },
    {
      "cell_type": "code",
      "metadata": {
        "id": "Bu54IseIt1Wu"
      },
      "source": [
        "input_file = \"my.csv\"\n",
        "dataset = pd.read_csv(input_file)\n",
        "df2 = pd.DataFrame(dataset)\n",
        "cols = [1,2,3,4]\n",
        "df2 = df2[df2.columns[cols]]"
      ],
      "execution_count": null,
      "outputs": []
    },
    {
      "cell_type": "code",
      "metadata": {
        "colab": {
          "base_uri": "https://localhost:8080/",
          "height": 200
        },
        "id": "NgFxGaNpuEUO",
        "outputId": "787e6623-2912-4f80-ebff-297611bb749d"
      },
      "source": [
        "df2.head()"
      ],
      "execution_count": null,
      "outputs": [
        {
          "output_type": "execute_result",
          "data": {
            "text/html": [
              "<div>\n",
              "<style scoped>\n",
              "    .dataframe tbody tr th:only-of-type {\n",
              "        vertical-align: middle;\n",
              "    }\n",
              "\n",
              "    .dataframe tbody tr th {\n",
              "        vertical-align: top;\n",
              "    }\n",
              "\n",
              "    .dataframe thead th {\n",
              "        text-align: right;\n",
              "    }\n",
              "</style>\n",
              "<table border=\"1\" class=\"dataframe\">\n",
              "  <thead>\n",
              "    <tr style=\"text-align: right;\">\n",
              "      <th></th>\n",
              "      <th>Entity_name</th>\n",
              "      <th>NEGATIVE</th>\n",
              "      <th>POSITIVE</th>\n",
              "      <th>Total</th>\n",
              "    </tr>\n",
              "  </thead>\n",
              "  <tbody>\n",
              "    <tr>\n",
              "      <th>0</th>\n",
              "      <td>Uk</td>\n",
              "      <td>1088</td>\n",
              "      <td>230</td>\n",
              "      <td>1318</td>\n",
              "    </tr>\n",
              "    <tr>\n",
              "      <th>1</th>\n",
              "      <td>London</td>\n",
              "      <td>186</td>\n",
              "      <td>68</td>\n",
              "      <td>254</td>\n",
              "    </tr>\n",
              "    <tr>\n",
              "      <th>2</th>\n",
              "      <td>Scotland</td>\n",
              "      <td>172</td>\n",
              "      <td>49</td>\n",
              "      <td>221</td>\n",
              "    </tr>\n",
              "    <tr>\n",
              "      <th>3</th>\n",
              "      <td>England</td>\n",
              "      <td>149</td>\n",
              "      <td>43</td>\n",
              "      <td>192</td>\n",
              "    </tr>\n",
              "    <tr>\n",
              "      <th>4</th>\n",
              "      <td>Us</td>\n",
              "      <td>118</td>\n",
              "      <td>27</td>\n",
              "      <td>145</td>\n",
              "    </tr>\n",
              "  </tbody>\n",
              "</table>\n",
              "</div>"
            ],
            "text/plain": [
              "  Entity_name  NEGATIVE  POSITIVE  Total\n",
              "0          Uk      1088       230   1318\n",
              "1      London       186        68    254\n",
              "2    Scotland       172        49    221\n",
              "3     England       149        43    192\n",
              "4          Us       118        27    145"
            ]
          },
          "metadata": {
            "tags": []
          },
          "execution_count": 6
        }
      ]
    },
    {
      "cell_type": "code",
      "metadata": {
        "id": "vhf-jIAVQC4V"
      },
      "source": [
        ""
      ],
      "execution_count": null,
      "outputs": []
    },
    {
      "cell_type": "code",
      "metadata": {
        "colab": {
          "base_uri": "https://localhost:8080/"
        },
        "id": "g-_1-BdqvCWG",
        "outputId": "f97270f6-7610-45e0-89f8-dd89fb9e38f7"
      },
      "source": [
        "Names = df2[\"Entity_name\"].tolist()\n",
        "print(Names)"
      ],
      "execution_count": null,
      "outputs": [
        {
          "output_type": "stream",
          "text": [
            "['Uk', 'London', 'Scotland', 'England', 'Us', 'Europe', 'Wales', 'Israel', 'France', 'Germany', 'Australia', 'China', 'Oxford', 'Nz', 'Britain', 'Usa', 'Az', 'Canada', 'India', 'Belgium', 'Ireland', 'Spain', 'Northern Ireland', 'America', 'Brazil', 'Japan', 'Italy', 'Portugal', 'New Zealand', 'Sweden', 'Singapore', 'South Africa', 'Heathrow', 'Kent', 'Russia', 'Ni', 'Greece', 'Hungary', 'Africa', 'Liverpool', 'Florida', 'Denmark', 'Brussels', 'Asia', 'Iceland', 'Taiwan', 'Manchester', 'East', 'South East', 'Glasgow', 'Haven', 'Yorkshire', 'Leeds', 'Midlands', 'Wuhan', 'North Korea', 'Cornwall', 'Poland', 'Texas', 'Barbados', 'Mexico', 'Uae', 'Norway', 'York', 'Melbourne', 'South Korea', 'United Kingdom', 'Netherlands', 'North', 'Sa', 'Manaus', 'S .', 'Egypt', 'North East', 'Kenya', 'South West', 'California', 'Derbyshire', 'Cu', 'Slovenia', 'South', 'Hong Kong', 'Aus', 'Suffolk', 'West Midlands', 'North West', 'Dubai', 'Leicester', 'Dover', 'New York', 'East Asia', 'Edinburgh', 'Se', 'Gb', 'Czechia', 'States', 'South America', 'Exeter', 'Thailand', 'Korea', 'Leicestershire', 'Brighton', 'Birmingham', 'Paris', 'Teesside', 'Berlin', 'Calais', 'Malta', 'Holland', 'Se Asia', 'Victoria', 'K .', 'Atlantic', 'World', 'Wembley', 'Ne', 'West Bank', 'Bahrain', 'Babylon', 'West Mids', 'Newcastle', 'Vietnam', 'East Anglia', 'Tokyo', 'Switzerland', 'Central London', 'Norfolk', 'Stamford', 'Iran', 'Republic Of Ireland', 'Cotland', 'City', 'La', 'Gibraltar', 'North Wales', 'Isle Of Wight', 'Isle Of Man', 'Nottingham', 'Gaza', 'Slovakia', 'Mids', 'Nigeria', 'Newham', 'Lake District', 'M25', 'Rhofstadt', 'Luton', 'Pacific', 'Hull', 'Oz', 'Malaysia', 'Nl', 'Luxembourg', 'North America', 'Ickenham', 'Nj', 'Ipswich', 'Hertfordshire', 'Manhattan', 'Michigan', 'Middle East', 'Prague', 'Far East', 'Tel Aviv', 'East Of England', 'Turkey', 'Austria', 'Western Europe', 'United States', 'East London', 'Sydney', 'Chile', 'Earth', 'Ukraine', 'Durham', 'Basingstoke', 'Bulgaria', 'Dublin', 'Ca', 'Swansea', 'Dresden', 'Union', 'Wiltshire', 'Dorset', 'Croydon', 'Bournemouth', 'Finland', 'Black Country', 'South East Asia', 'Eu', 'Zimbabwe', 'Cot', 'Catalonia', 'Felixstowe', 'Amsterdam', 'And', 'Eastern Europe', 'Sudan', 'Argentina', 'Wrexham', 'Northern Europe', 'Oxford Street', 'Outer Hebrides', 'University Hospital Southampton Foundation Trust', 'Twitter', 'United Korea', 'Pakistan', 'Orther', 'Paradise', 'Tu', 'Pe', 'Tom', 'Peak District', 'Peru', 'Philippines', 'Oslo', 'Warsaw', 'Ore', 'Or', 'Northern Italy', 'Zoe', 'Zene', 'Zealand', 'Za', 'Yo', 'Worcester', 'Nuremberg', 'Westminster', 'West London', 'West Cumbria', 'West', 'Ny', 'Nyc', 'Warts', 'Of', 'Ohio', 'Old Nec', 'Piccadilly', 'Old Trafford', 'Vaterland', 'Valneva', 'Ondon', 'Utschland', 'Uss', 'One', 'Ushi', 'Thurrock', 'South Asia', 'Plague Island', 'Southern Hemisphere', 'Ruk', 'Rural Rother', 'Rutland', 'Spring', 'Rwanda', 'Rwick', 'Split', 'S . Capital', 'S Korea', 'Southern Ireland', 'Saharan Africa', 'Saigon', 'San Marino', 'Sandwich', 'Royal London Hospital Icu', 'Saturn', 'Southern', 'Saudi Arabia', 'Southeast', 'Scoto', 'Southampton', 'Seychelles South Africa Suriname Tanzania Uruguay Venezuela Zambia Zimbabwe', 'South Yorkshire', 'Shropshire', 'South Island', 'South East London', 'South Coast', 'Snowdon', 'St Albans', 'Royal London Hospital I', 'Pluto', 'Rab', 'Plymouth', 'Thames', 'Plymouth & Exeter', 'Tershire', 'Terminal 5', 'Portsmouth', 'Snowdonia', 'Syria', 'Swed', 'Qatar', 'Qld', 'Surrey', 'Quebec', 'Sun', 'St Barts', 'Ralia', 'Ramstein Air Base', 'Republic', 'Stratford', 'Stockton - On - Tees', 'Stockholm', 'Rhine', 'Stavanger', 'Rkshire', 'Romania', 'Stamford Hill', 'Rotterdam', 'St Helens', 'Aberdeen', 'Lincolnshire', 'Northeast', 'Canary', 'Corby', 'Connecticut', 'Common Travel Area', 'Clapton', 'Clapham', 'Chesterfield', 'Chester', 'Cheshire Oaks', 'Cheshire', 'Channel Tunnel', 'Channel', 'Chad', 'Ch', 'Central Scotland', 'Central America', 'Cardiff', 'Capitol', 'Capital', 'Canary Wharf', 'Cotswolds', 'Covid', 'Cypress', 'Dundee', 'English Channel', 'End', 'Ed', 'Eastbourne', 'East Sussex', 'East Midlands', 'East Lindsey', 'East England', 'Dubai Uae', 'Cyprus', 'Dia', 'Devizes', 'Deutschland', 'Derby', 'Delhi', 'Dayton', 'Dagenham', 'Czechoslovenia', 'Canary Islands', 'Cambridgshire', 'North Yorkshire', 'Cambridgeshire', 'Barking', 'Bangladesh', 'Azores', 'Azerbaijan', 'Auz', 'Austra', 'Aurora St', 'Auckland', 'Au', 'Aruba', 'Antrim', 'Antarctica', 'Angola Argentina Bolivia Botswana Brazil Cape Verde Chile Colombia Democratic Republic Of Congo Ecuador Eswatini French Guiana Guyana Lesotho Malawi Mauritius Mozambique Namibia Panama Paraguay Peru Portugal', 'Americas', 'Amber', 'Amazon', 'Alps', 'Algarve', 'Ada', 'Barnard Castle', 'Barra', 'Basque', 'Bolivia', 'Cambridge', 'Cambodia', 'Butlins', 'Bury', 'Burgh', 'Bristol', 'Brasil', 'Boston', 'Birmingham City Hospital', 'Bavaria', 'Bexley', 'Bethnal Green Police Station', 'Bermuda', 'Bergamo', 'Benidorm', 'Bel', 'Beijing', 'Bc', 'Ermany', 'Estonia', 'Etchingham', 'Euro', \"Luke ' S Medical Center\", 'Louisa Jordan', 'Lorida', \"Llandudno ' S\", 'Livingston', 'Liverpool Royal', 'Lithuania', 'Lisbon', 'Abu Dhabi', 'Lewisham', 'Leicester Square', 'Latvia', 'Landguard Point', 'Land', 'L \\\\ Xfcbeck', 'Kings Cross', 'Kingdom', 'Kensington & Chelsea', 'Kazakhstan', 'Macau', 'Madagascar', 'Madeira', 'Milwaukee', 'Nmanaus', 'Nightingale Hospital', 'Night', 'Nepal', 'Naples', 'Nah', 'Mumbai', 'Mon', 'Midlothian', 'Maldives', 'Middelburg', 'Merseyside', 'Medway', 'Mediterranean', 'Med', 'Mecca', 'Me', 'Malmo', 'Jupiter', 'Jeremy', 'Isreal', 'Global South', 'Hartlepool', 'Harf', 'Hampshire', 'Hamburg', 'Hal', 'Gyang', 'Great Britain', 'Gloucester', 'Glast', 'Hells Kitchen', 'Ghana', 'Gatwick', 'Gateshead', 'Frankfurt', 'Fr', 'Forest Lane', 'Everest', 'Euston', 'Havering', 'Hitby', 'Islands', 'Inc', 'Island', 'Ise', 'Is', 'Irkwall', 'Iraq', 'Inverness', 'Indonesia', 'Indi', 'Ific', 'Hk', 'Icu', 'Ibiza', 'Humber', 'Houston', 'Hospital', 'Holy', 'Holland Park', 'Ho', '[Cls]', 'Airport', 'Alcat', 'Area', 'Arizona', 'Ashford And St Peter', 'Ashworth', 'Austin', 'Bar', 'Barcelona', 'Bassetlaw', 'Belfast', 'Berkshire', 'Blackpool', 'Broadmore', 'Buckingham', 'Buckinghamshire', 'Burgundy', 'Cairns', 'Calder', 'Camp Nou', 'Carstairs', 'Centre', 'Chicago', 'Chongqing', 'Church Of St Corona', 'Colorado', 'Common', 'Cromer', 'Dales', 'Denver', 'Don', 'Downing Street', 'Dudley', 'Eleven', 'Empire', 'Epsom', 'Eric', 'Erland', 'Essex', 'Fallowfield', 'Finsbury Park', 'Frica', 'Fylde', 'Gatcombe', 'Glastonbury', 'Great', 'Grimsby', 'Hemisphere', 'Hollywood', 'Home', 'Huddersfield', 'Hyde Park', 'Ife', 'International', 'Italy France Spain Germany', 'Jaipur', 'Lant', 'Latin America', 'Lico', 'Liechtenstein', 'Liverpool Street', 'London Palladium', 'Los Angeles', 'Lu', 'Madrid', 'Manor House', 'Mars', 'Mashallah', 'Milton Keynes', 'Montenegro', 'Moon', 'New Braunfels', 'New Hampshire', 'New York City', 'Nice', 'Nigel', 'Norwich', 'Nsw', 'Orkney', 'Palestine', 'Pim', 'Rampton', 'Raz Uk', 'Russells', 'S Hospital', 'S Park', 'Salisbury', 'San Francisco', 'Se London', 'Seattle', 'Serbia', 'Seychelles', 'Sheffield', 'Shetland', 'Skegness', 'Slough', 'Soho', 'South Downs', 'South Of England', 'South Of France', 'Southfields', 'Soviet Union', 'St . James', 'Tadcaster', 'Teca', 'Tenerife', 'Tx', 'United', 'Ussr', 'Viet', 'Warrington', 'Warrington Hospital', 'West Coast', 'West Sussex', 'Windsor', 'Worship', 'Zante']\n"
          ],
          "name": "stdout"
        }
      ]
    },
    {
      "cell_type": "code",
      "metadata": {
        "id": "uOwZGRTJC72_"
      },
      "source": [
        "# Names = ['Uk' if i=='United Kingdom' else i for i in Names]\n",
        "# Names = ['Us' if i=='United States' else i for i in Names]"
      ],
      "execution_count": null,
      "outputs": []
    },
    {
      "cell_type": "code",
      "metadata": {
        "colab": {
          "base_uri": "https://localhost:8080/"
        },
        "id": "PFA3AmOX-n4g",
        "outputId": "1325acce-cc01-4146-d4b9-7c29e6f60670"
      },
      "source": [
        "for Name in Names:\n",
        "  if 'London' in Name:\n",
        "    print(Name)"
      ],
      "execution_count": null,
      "outputs": [
        {
          "output_type": "stream",
          "text": [
            "London\n",
            "Central London\n",
            "East London\n",
            "West London\n",
            "Royal London Hospital Icu\n",
            "South East London\n",
            "Royal London Hospital I\n",
            "London Palladium\n",
            "Se London\n"
          ],
          "name": "stdout"
        }
      ]
    },
    {
      "cell_type": "code",
      "metadata": {
        "id": "qZDJCcuK_EM-"
      },
      "source": [
        "Locations=['Uk','London','Scotland','England','Us','Europe','Wales','Israel','France','Germany']"
      ],
      "execution_count": null,
      "outputs": []
    },
    {
      "cell_type": "code",
      "metadata": {
        "colab": {
          "base_uri": "https://localhost:8080/"
        },
        "id": "lV0s6-cFAIys",
        "outputId": "adb04486-9ba9-4d0e-bd12-8374f0a7f452"
      },
      "source": [
        "Related={}\n",
        "for Location in Locations:\n",
        "  temp=[]\n",
        "  for Name in Names:\n",
        "    if Location == Name or \" \"+Location in Name or Location+\" \" in Name:\n",
        "      print(Location,Name)\n",
        "      temp.append(Name)\n",
        "  Related[Location]=temp"
      ],
      "execution_count": null,
      "outputs": [
        {
          "output_type": "stream",
          "text": [
            "Uk Uk\n",
            "Uk Raz Uk\n",
            "London London\n",
            "London Central London\n",
            "London East London\n",
            "London West London\n",
            "London Royal London Hospital Icu\n",
            "London South East London\n",
            "London Royal London Hospital I\n",
            "London London Palladium\n",
            "London Se London\n",
            "Scotland Scotland\n",
            "Scotland Central Scotland\n",
            "England England\n",
            "England East Of England\n",
            "England East England\n",
            "England South Of England\n",
            "Us Us\n",
            "Europe Europe\n",
            "Europe Western Europe\n",
            "Europe Eastern Europe\n",
            "Europe Northern Europe\n",
            "Wales Wales\n",
            "Wales North Wales\n",
            "Israel Israel\n",
            "France France\n",
            "France Italy France Spain Germany\n",
            "France South Of France\n",
            "Germany Germany\n",
            "Germany Italy France Spain Germany\n"
          ],
          "name": "stdout"
        }
      ]
    },
    {
      "cell_type": "code",
      "metadata": {
        "colab": {
          "base_uri": "https://localhost:8080/"
        },
        "id": "nOk1ACfSHpGm",
        "outputId": "878715fe-b72b-4606-8831-d72493849225"
      },
      "source": [
        "for i in Related:\n",
        "  print(i,Related[i])"
      ],
      "execution_count": null,
      "outputs": [
        {
          "output_type": "stream",
          "text": [
            "Uk ['Uk', 'Raz Uk']\n",
            "London ['London', 'Central London', 'East London', 'West London', 'Royal London Hospital Icu', 'South East London', 'Royal London Hospital I', 'London Palladium', 'Se London']\n",
            "Scotland ['Scotland', 'Central Scotland']\n",
            "England ['England', 'East Of England', 'East England', 'South Of England']\n",
            "Us ['Us']\n",
            "Europe ['Europe', 'Western Europe', 'Eastern Europe', 'Northern Europe']\n",
            "Wales ['Wales', 'North Wales']\n",
            "Israel ['Israel']\n",
            "France ['France', 'Italy France Spain Germany', 'South Of France']\n",
            "Germany ['Germany', 'Italy France Spain Germany']\n"
          ],
          "name": "stdout"
        }
      ]
    },
    {
      "cell_type": "code",
      "metadata": {
        "id": "-85Fq9C9MQDX"
      },
      "source": [
        "df4=pd.DataFrame(columns=['Entity_name','Up_Neg','Up_Pos','Up_Tot'])\n"
      ],
      "execution_count": null,
      "outputs": []
    },
    {
      "cell_type": "code",
      "metadata": {
        "colab": {
          "base_uri": "https://localhost:8080/",
          "height": 530
        },
        "id": "sDmoNi1BDXjP",
        "outputId": "5b84dde7-0646-462c-f529-42a02b34bc13"
      },
      "source": [
        "for i in Related.keys():\n",
        "  positive=0\n",
        "  negative=0\n",
        "  for n in Related[i]:\n",
        "    df3 =df2.loc[df2['Entity_name'] == n]\n",
        "    \n",
        "    Ns = df3[\"NEGATIVE\"].tolist()\n",
        "    negative+=Ns[0]\n",
        "    Ps = df3[\"POSITIVE\"].tolist()\n",
        "    positive+=Ps[0]\n",
        "  print(i,negative,positive)\n",
        "  df4=df4.append({'Entity_name': i,'Up_Neg': negative,'Up_Pos': positive,'Up_Tot': negative+positive}, ignore_index=True)\n",
        "df4.head(10)\n"
      ],
      "execution_count": null,
      "outputs": [
        {
          "output_type": "stream",
          "text": [
            "Uk 1088 231\n",
            "London 195 71\n",
            "Scotland 173 49\n",
            "England 152 45\n",
            "Us 118 27\n",
            "Europe 112 25\n",
            "Wales 87 40\n",
            "Israel 83 24\n",
            "France 75 17\n",
            "Germany 68 17\n"
          ],
          "name": "stdout"
        },
        {
          "output_type": "execute_result",
          "data": {
            "text/html": [
              "<div>\n",
              "<style scoped>\n",
              "    .dataframe tbody tr th:only-of-type {\n",
              "        vertical-align: middle;\n",
              "    }\n",
              "\n",
              "    .dataframe tbody tr th {\n",
              "        vertical-align: top;\n",
              "    }\n",
              "\n",
              "    .dataframe thead th {\n",
              "        text-align: right;\n",
              "    }\n",
              "</style>\n",
              "<table border=\"1\" class=\"dataframe\">\n",
              "  <thead>\n",
              "    <tr style=\"text-align: right;\">\n",
              "      <th></th>\n",
              "      <th>Entity_name</th>\n",
              "      <th>Up_Neg</th>\n",
              "      <th>Up_Pos</th>\n",
              "      <th>Up_Tot</th>\n",
              "    </tr>\n",
              "  </thead>\n",
              "  <tbody>\n",
              "    <tr>\n",
              "      <th>0</th>\n",
              "      <td>Uk</td>\n",
              "      <td>1088</td>\n",
              "      <td>231</td>\n",
              "      <td>1319</td>\n",
              "    </tr>\n",
              "    <tr>\n",
              "      <th>1</th>\n",
              "      <td>London</td>\n",
              "      <td>195</td>\n",
              "      <td>71</td>\n",
              "      <td>266</td>\n",
              "    </tr>\n",
              "    <tr>\n",
              "      <th>2</th>\n",
              "      <td>Scotland</td>\n",
              "      <td>173</td>\n",
              "      <td>49</td>\n",
              "      <td>222</td>\n",
              "    </tr>\n",
              "    <tr>\n",
              "      <th>3</th>\n",
              "      <td>England</td>\n",
              "      <td>152</td>\n",
              "      <td>45</td>\n",
              "      <td>197</td>\n",
              "    </tr>\n",
              "    <tr>\n",
              "      <th>4</th>\n",
              "      <td>Us</td>\n",
              "      <td>118</td>\n",
              "      <td>27</td>\n",
              "      <td>145</td>\n",
              "    </tr>\n",
              "    <tr>\n",
              "      <th>5</th>\n",
              "      <td>Europe</td>\n",
              "      <td>112</td>\n",
              "      <td>25</td>\n",
              "      <td>137</td>\n",
              "    </tr>\n",
              "    <tr>\n",
              "      <th>6</th>\n",
              "      <td>Wales</td>\n",
              "      <td>87</td>\n",
              "      <td>40</td>\n",
              "      <td>127</td>\n",
              "    </tr>\n",
              "    <tr>\n",
              "      <th>7</th>\n",
              "      <td>Israel</td>\n",
              "      <td>83</td>\n",
              "      <td>24</td>\n",
              "      <td>107</td>\n",
              "    </tr>\n",
              "    <tr>\n",
              "      <th>8</th>\n",
              "      <td>France</td>\n",
              "      <td>75</td>\n",
              "      <td>17</td>\n",
              "      <td>92</td>\n",
              "    </tr>\n",
              "    <tr>\n",
              "      <th>9</th>\n",
              "      <td>Germany</td>\n",
              "      <td>68</td>\n",
              "      <td>17</td>\n",
              "      <td>85</td>\n",
              "    </tr>\n",
              "  </tbody>\n",
              "</table>\n",
              "</div>"
            ],
            "text/plain": [
              "  Entity_name Up_Neg Up_Pos Up_Tot\n",
              "0          Uk   1088    231   1319\n",
              "1      London    195     71    266\n",
              "2    Scotland    173     49    222\n",
              "3     England    152     45    197\n",
              "4          Us    118     27    145\n",
              "5      Europe    112     25    137\n",
              "6       Wales     87     40    127\n",
              "7      Israel     83     24    107\n",
              "8      France     75     17     92\n",
              "9     Germany     68     17     85"
            ]
          },
          "metadata": {
            "tags": []
          },
          "execution_count": 14
        }
      ]
    },
    {
      "cell_type": "code",
      "metadata": {
        "colab": {
          "base_uri": "https://localhost:8080/"
        },
        "id": "ArI-_yKsPCiq",
        "outputId": "50ca7e72-e986-4cb3-f1a7-ab99c045e093"
      },
      "source": [
        "df5=pd.concat([df2,df4], axis=1)\n",
        "print(df5.head(10))"
      ],
      "execution_count": null,
      "outputs": [
        {
          "output_type": "stream",
          "text": [
            "  Entity_name  NEGATIVE  POSITIVE  Total Entity_name Up_Neg Up_Pos Up_Tot\n",
            "0          Uk      1088       230   1318          Uk   1088    231   1319\n",
            "1      London       186        68    254      London    195     71    266\n",
            "2    Scotland       172        49    221    Scotland    173     49    222\n",
            "3     England       149        43    192     England    152     45    197\n",
            "4          Us       118        27    145          Us    118     27    145\n",
            "5      Europe       106        24    130      Europe    112     25    137\n",
            "6       Wales        85        37    122       Wales     87     40    127\n",
            "7      Israel        83        24    107      Israel     83     24    107\n",
            "8      France        75        15     90      France     75     17     92\n",
            "9     Germany        68        16     84     Germany     68     17     85\n"
          ],
          "name": "stdout"
        }
      ]
    },
    {
      "cell_type": "code",
      "metadata": {
        "id": "nHoLSeKYUr_I"
      },
      "source": [
        "# df5.to_csv(\"df5.csv\")\n",
        "\n",
        "# from google.colab import files\n",
        "# files.download('df5.csv')"
      ],
      "execution_count": null,
      "outputs": []
    },
    {
      "cell_type": "code",
      "metadata": {
        "colab": {
          "base_uri": "https://localhost:8080/"
        },
        "id": "88vtaiTdZwq8",
        "outputId": "f2dda702-6c57-4beb-8df2-904206be6eb4"
      },
      "source": [
        "!pip install pycountry\n",
        "\n",
        "import pycountry\n",
        "\n"
      ],
      "execution_count": null,
      "outputs": [
        {
          "output_type": "stream",
          "text": [
            "Requirement already satisfied: pycountry in /usr/local/lib/python3.7/dist-packages (20.7.3)\n"
          ],
          "name": "stdout"
        }
      ]
    },
    {
      "cell_type": "code",
      "metadata": {
        "id": "GUYXSPB2aOxH"
      },
      "source": [
        "def get_countries():\n",
        "    for x in pycountry.countries:\n",
        "        print(x.alpha_2 +'  --   '+x.name)"
      ],
      "execution_count": null,
      "outputs": []
    },
    {
      "cell_type": "code",
      "metadata": {
        "colab": {
          "base_uri": "https://localhost:8080/"
        },
        "id": "JyEKl_X_a0nJ",
        "outputId": "74be7ded-e3fe-4ecb-bfd3-5b6cf2744982"
      },
      "source": [
        "!pip install iso3166"
      ],
      "execution_count": null,
      "outputs": [
        {
          "output_type": "stream",
          "text": [
            "Collecting iso3166\n",
            "  Downloading https://files.pythonhosted.org/packages/a0/42/15d2ef2211ddb26deb810a21b084ee6f3d1bc7248e884dcabb5edc04b649/iso3166-1.0.1-py2.py3-none-any.whl\n",
            "Installing collected packages: iso3166\n",
            "Successfully installed iso3166-1.0.1\n"
          ],
          "name": "stdout"
        }
      ]
    },
    {
      "cell_type": "code",
      "metadata": {
        "colab": {
          "base_uri": "https://localhost:8080/"
        },
        "id": "D5ao_uLHa74u",
        "outputId": "09a540ec-1d48-4447-dc24-0c6f32a7ec10"
      },
      "source": [
        "from iso3166 import countries\n",
        "# countries.get('united kingdom')\n",
        "for c in countries:\n",
        "  print(c)"
      ],
      "execution_count": null,
      "outputs": [
        {
          "output_type": "stream",
          "text": [
            "Country(name='Afghanistan', alpha2='AF', alpha3='AFG', numeric='004', apolitical_name='Afghanistan')\n",
            "Country(name='Åland Islands', alpha2='AX', alpha3='ALA', numeric='248', apolitical_name='Åland Islands')\n",
            "Country(name='Albania', alpha2='AL', alpha3='ALB', numeric='008', apolitical_name='Albania')\n",
            "Country(name='Algeria', alpha2='DZ', alpha3='DZA', numeric='012', apolitical_name='Algeria')\n",
            "Country(name='American Samoa', alpha2='AS', alpha3='ASM', numeric='016', apolitical_name='American Samoa')\n",
            "Country(name='Andorra', alpha2='AD', alpha3='AND', numeric='020', apolitical_name='Andorra')\n",
            "Country(name='Angola', alpha2='AO', alpha3='AGO', numeric='024', apolitical_name='Angola')\n",
            "Country(name='Anguilla', alpha2='AI', alpha3='AIA', numeric='660', apolitical_name='Anguilla')\n",
            "Country(name='Antarctica', alpha2='AQ', alpha3='ATA', numeric='010', apolitical_name='Antarctica')\n",
            "Country(name='Antigua and Barbuda', alpha2='AG', alpha3='ATG', numeric='028', apolitical_name='Antigua and Barbuda')\n",
            "Country(name='Argentina', alpha2='AR', alpha3='ARG', numeric='032', apolitical_name='Argentina')\n",
            "Country(name='Armenia', alpha2='AM', alpha3='ARM', numeric='051', apolitical_name='Armenia')\n",
            "Country(name='Aruba', alpha2='AW', alpha3='ABW', numeric='533', apolitical_name='Aruba')\n",
            "Country(name='Australia', alpha2='AU', alpha3='AUS', numeric='036', apolitical_name='Australia')\n",
            "Country(name='Austria', alpha2='AT', alpha3='AUT', numeric='040', apolitical_name='Austria')\n",
            "Country(name='Azerbaijan', alpha2='AZ', alpha3='AZE', numeric='031', apolitical_name='Azerbaijan')\n",
            "Country(name='Bahamas', alpha2='BS', alpha3='BHS', numeric='044', apolitical_name='Bahamas')\n",
            "Country(name='Bahrain', alpha2='BH', alpha3='BHR', numeric='048', apolitical_name='Bahrain')\n",
            "Country(name='Bangladesh', alpha2='BD', alpha3='BGD', numeric='050', apolitical_name='Bangladesh')\n",
            "Country(name='Barbados', alpha2='BB', alpha3='BRB', numeric='052', apolitical_name='Barbados')\n",
            "Country(name='Belarus', alpha2='BY', alpha3='BLR', numeric='112', apolitical_name='Belarus')\n",
            "Country(name='Belgium', alpha2='BE', alpha3='BEL', numeric='056', apolitical_name='Belgium')\n",
            "Country(name='Belize', alpha2='BZ', alpha3='BLZ', numeric='084', apolitical_name='Belize')\n",
            "Country(name='Benin', alpha2='BJ', alpha3='BEN', numeric='204', apolitical_name='Benin')\n",
            "Country(name='Bermuda', alpha2='BM', alpha3='BMU', numeric='060', apolitical_name='Bermuda')\n",
            "Country(name='Bhutan', alpha2='BT', alpha3='BTN', numeric='064', apolitical_name='Bhutan')\n",
            "Country(name='Bolivia, Plurinational State of', alpha2='BO', alpha3='BOL', numeric='068', apolitical_name='Bolivia, Plurinational State of')\n",
            "Country(name='Bonaire, Sint Eustatius and Saba', alpha2='BQ', alpha3='BES', numeric='535', apolitical_name='Bonaire, Sint Eustatius and Saba')\n",
            "Country(name='Bosnia and Herzegovina', alpha2='BA', alpha3='BIH', numeric='070', apolitical_name='Bosnia and Herzegovina')\n",
            "Country(name='Botswana', alpha2='BW', alpha3='BWA', numeric='072', apolitical_name='Botswana')\n",
            "Country(name='Bouvet Island', alpha2='BV', alpha3='BVT', numeric='074', apolitical_name='Bouvet Island')\n",
            "Country(name='Brazil', alpha2='BR', alpha3='BRA', numeric='076', apolitical_name='Brazil')\n",
            "Country(name='British Indian Ocean Territory', alpha2='IO', alpha3='IOT', numeric='086', apolitical_name='British Indian Ocean Territory')\n",
            "Country(name='Brunei Darussalam', alpha2='BN', alpha3='BRN', numeric='096', apolitical_name='Brunei Darussalam')\n",
            "Country(name='Bulgaria', alpha2='BG', alpha3='BGR', numeric='100', apolitical_name='Bulgaria')\n",
            "Country(name='Burkina Faso', alpha2='BF', alpha3='BFA', numeric='854', apolitical_name='Burkina Faso')\n",
            "Country(name='Burundi', alpha2='BI', alpha3='BDI', numeric='108', apolitical_name='Burundi')\n",
            "Country(name='Cambodia', alpha2='KH', alpha3='KHM', numeric='116', apolitical_name='Cambodia')\n",
            "Country(name='Cameroon', alpha2='CM', alpha3='CMR', numeric='120', apolitical_name='Cameroon')\n",
            "Country(name='Canada', alpha2='CA', alpha3='CAN', numeric='124', apolitical_name='Canada')\n",
            "Country(name='Cabo Verde', alpha2='CV', alpha3='CPV', numeric='132', apolitical_name='Cabo Verde')\n",
            "Country(name='Cayman Islands', alpha2='KY', alpha3='CYM', numeric='136', apolitical_name='Cayman Islands')\n",
            "Country(name='Central African Republic', alpha2='CF', alpha3='CAF', numeric='140', apolitical_name='Central African Republic')\n",
            "Country(name='Chad', alpha2='TD', alpha3='TCD', numeric='148', apolitical_name='Chad')\n",
            "Country(name='Chile', alpha2='CL', alpha3='CHL', numeric='152', apolitical_name='Chile')\n",
            "Country(name='China', alpha2='CN', alpha3='CHN', numeric='156', apolitical_name='China')\n",
            "Country(name='Christmas Island', alpha2='CX', alpha3='CXR', numeric='162', apolitical_name='Christmas Island')\n",
            "Country(name='Cocos (Keeling) Islands', alpha2='CC', alpha3='CCK', numeric='166', apolitical_name='Cocos (Keeling) Islands')\n",
            "Country(name='Colombia', alpha2='CO', alpha3='COL', numeric='170', apolitical_name='Colombia')\n",
            "Country(name='Comoros', alpha2='KM', alpha3='COM', numeric='174', apolitical_name='Comoros')\n",
            "Country(name='Congo', alpha2='CG', alpha3='COG', numeric='178', apolitical_name='Congo')\n",
            "Country(name='Congo, Democratic Republic of the', alpha2='CD', alpha3='COD', numeric='180', apolitical_name='Congo, Democratic Republic of the')\n",
            "Country(name='Cook Islands', alpha2='CK', alpha3='COK', numeric='184', apolitical_name='Cook Islands')\n",
            "Country(name='Costa Rica', alpha2='CR', alpha3='CRI', numeric='188', apolitical_name='Costa Rica')\n",
            "Country(name=\"Côte d'Ivoire\", alpha2='CI', alpha3='CIV', numeric='384', apolitical_name=\"Côte d'Ivoire\")\n",
            "Country(name='Croatia', alpha2='HR', alpha3='HRV', numeric='191', apolitical_name='Croatia')\n",
            "Country(name='Cuba', alpha2='CU', alpha3='CUB', numeric='192', apolitical_name='Cuba')\n",
            "Country(name='Curaçao', alpha2='CW', alpha3='CUW', numeric='531', apolitical_name='Curaçao')\n",
            "Country(name='Cyprus', alpha2='CY', alpha3='CYP', numeric='196', apolitical_name='Cyprus')\n",
            "Country(name='Czechia', alpha2='CZ', alpha3='CZE', numeric='203', apolitical_name='Czechia')\n",
            "Country(name='Denmark', alpha2='DK', alpha3='DNK', numeric='208', apolitical_name='Denmark')\n",
            "Country(name='Djibouti', alpha2='DJ', alpha3='DJI', numeric='262', apolitical_name='Djibouti')\n",
            "Country(name='Dominica', alpha2='DM', alpha3='DMA', numeric='212', apolitical_name='Dominica')\n",
            "Country(name='Dominican Republic', alpha2='DO', alpha3='DOM', numeric='214', apolitical_name='Dominican Republic')\n",
            "Country(name='Ecuador', alpha2='EC', alpha3='ECU', numeric='218', apolitical_name='Ecuador')\n",
            "Country(name='Egypt', alpha2='EG', alpha3='EGY', numeric='818', apolitical_name='Egypt')\n",
            "Country(name='El Salvador', alpha2='SV', alpha3='SLV', numeric='222', apolitical_name='El Salvador')\n",
            "Country(name='Equatorial Guinea', alpha2='GQ', alpha3='GNQ', numeric='226', apolitical_name='Equatorial Guinea')\n",
            "Country(name='Eritrea', alpha2='ER', alpha3='ERI', numeric='232', apolitical_name='Eritrea')\n",
            "Country(name='Estonia', alpha2='EE', alpha3='EST', numeric='233', apolitical_name='Estonia')\n",
            "Country(name='Ethiopia', alpha2='ET', alpha3='ETH', numeric='231', apolitical_name='Ethiopia')\n",
            "Country(name='Falkland Islands (Malvinas)', alpha2='FK', alpha3='FLK', numeric='238', apolitical_name='Falkland Islands (Malvinas)')\n",
            "Country(name='Faroe Islands', alpha2='FO', alpha3='FRO', numeric='234', apolitical_name='Faroe Islands')\n",
            "Country(name='Fiji', alpha2='FJ', alpha3='FJI', numeric='242', apolitical_name='Fiji')\n",
            "Country(name='Finland', alpha2='FI', alpha3='FIN', numeric='246', apolitical_name='Finland')\n",
            "Country(name='France', alpha2='FR', alpha3='FRA', numeric='250', apolitical_name='France')\n",
            "Country(name='French Guiana', alpha2='GF', alpha3='GUF', numeric='254', apolitical_name='French Guiana')\n",
            "Country(name='French Polynesia', alpha2='PF', alpha3='PYF', numeric='258', apolitical_name='French Polynesia')\n",
            "Country(name='French Southern Territories', alpha2='TF', alpha3='ATF', numeric='260', apolitical_name='French Southern Territories')\n",
            "Country(name='Gabon', alpha2='GA', alpha3='GAB', numeric='266', apolitical_name='Gabon')\n",
            "Country(name='Gambia', alpha2='GM', alpha3='GMB', numeric='270', apolitical_name='Gambia')\n",
            "Country(name='Georgia', alpha2='GE', alpha3='GEO', numeric='268', apolitical_name='Georgia')\n",
            "Country(name='Germany', alpha2='DE', alpha3='DEU', numeric='276', apolitical_name='Germany')\n",
            "Country(name='Ghana', alpha2='GH', alpha3='GHA', numeric='288', apolitical_name='Ghana')\n",
            "Country(name='Gibraltar', alpha2='GI', alpha3='GIB', numeric='292', apolitical_name='Gibraltar')\n",
            "Country(name='Greece', alpha2='GR', alpha3='GRC', numeric='300', apolitical_name='Greece')\n",
            "Country(name='Greenland', alpha2='GL', alpha3='GRL', numeric='304', apolitical_name='Greenland')\n",
            "Country(name='Grenada', alpha2='GD', alpha3='GRD', numeric='308', apolitical_name='Grenada')\n",
            "Country(name='Guadeloupe', alpha2='GP', alpha3='GLP', numeric='312', apolitical_name='Guadeloupe')\n",
            "Country(name='Guam', alpha2='GU', alpha3='GUM', numeric='316', apolitical_name='Guam')\n",
            "Country(name='Guatemala', alpha2='GT', alpha3='GTM', numeric='320', apolitical_name='Guatemala')\n",
            "Country(name='Guernsey', alpha2='GG', alpha3='GGY', numeric='831', apolitical_name='Guernsey')\n",
            "Country(name='Guinea', alpha2='GN', alpha3='GIN', numeric='324', apolitical_name='Guinea')\n",
            "Country(name='Guinea-Bissau', alpha2='GW', alpha3='GNB', numeric='624', apolitical_name='Guinea-Bissau')\n",
            "Country(name='Guyana', alpha2='GY', alpha3='GUY', numeric='328', apolitical_name='Guyana')\n",
            "Country(name='Haiti', alpha2='HT', alpha3='HTI', numeric='332', apolitical_name='Haiti')\n",
            "Country(name='Heard Island and McDonald Islands', alpha2='HM', alpha3='HMD', numeric='334', apolitical_name='Heard Island and McDonald Islands')\n",
            "Country(name='Holy See', alpha2='VA', alpha3='VAT', numeric='336', apolitical_name='Holy See')\n",
            "Country(name='Honduras', alpha2='HN', alpha3='HND', numeric='340', apolitical_name='Honduras')\n",
            "Country(name='Hong Kong', alpha2='HK', alpha3='HKG', numeric='344', apolitical_name='Hong Kong')\n",
            "Country(name='Hungary', alpha2='HU', alpha3='HUN', numeric='348', apolitical_name='Hungary')\n",
            "Country(name='Iceland', alpha2='IS', alpha3='ISL', numeric='352', apolitical_name='Iceland')\n",
            "Country(name='India', alpha2='IN', alpha3='IND', numeric='356', apolitical_name='India')\n",
            "Country(name='Indonesia', alpha2='ID', alpha3='IDN', numeric='360', apolitical_name='Indonesia')\n",
            "Country(name='Iran, Islamic Republic of', alpha2='IR', alpha3='IRN', numeric='364', apolitical_name='Iran, Islamic Republic of')\n",
            "Country(name='Iraq', alpha2='IQ', alpha3='IRQ', numeric='368', apolitical_name='Iraq')\n",
            "Country(name='Ireland', alpha2='IE', alpha3='IRL', numeric='372', apolitical_name='Ireland')\n",
            "Country(name='Isle of Man', alpha2='IM', alpha3='IMN', numeric='833', apolitical_name='Isle of Man')\n",
            "Country(name='Israel', alpha2='IL', alpha3='ISR', numeric='376', apolitical_name='Israel')\n",
            "Country(name='Italy', alpha2='IT', alpha3='ITA', numeric='380', apolitical_name='Italy')\n",
            "Country(name='Jamaica', alpha2='JM', alpha3='JAM', numeric='388', apolitical_name='Jamaica')\n",
            "Country(name='Japan', alpha2='JP', alpha3='JPN', numeric='392', apolitical_name='Japan')\n",
            "Country(name='Jersey', alpha2='JE', alpha3='JEY', numeric='832', apolitical_name='Jersey')\n",
            "Country(name='Jordan', alpha2='JO', alpha3='JOR', numeric='400', apolitical_name='Jordan')\n",
            "Country(name='Kazakhstan', alpha2='KZ', alpha3='KAZ', numeric='398', apolitical_name='Kazakhstan')\n",
            "Country(name='Kenya', alpha2='KE', alpha3='KEN', numeric='404', apolitical_name='Kenya')\n",
            "Country(name='Kiribati', alpha2='KI', alpha3='KIR', numeric='296', apolitical_name='Kiribati')\n",
            "Country(name=\"Korea, Democratic People's Republic of\", alpha2='KP', alpha3='PRK', numeric='408', apolitical_name=\"Korea, Democratic People's Republic of\")\n",
            "Country(name='Korea, Republic of', alpha2='KR', alpha3='KOR', numeric='410', apolitical_name='Korea, Republic of')\n",
            "Country(name='Kosovo', alpha2='XK', alpha3='XKX', numeric='983', apolitical_name='Kosovo')\n",
            "Country(name='Kuwait', alpha2='KW', alpha3='KWT', numeric='414', apolitical_name='Kuwait')\n",
            "Country(name='Kyrgyzstan', alpha2='KG', alpha3='KGZ', numeric='417', apolitical_name='Kyrgyzstan')\n",
            "Country(name=\"Lao People's Democratic Republic\", alpha2='LA', alpha3='LAO', numeric='418', apolitical_name=\"Lao People's Democratic Republic\")\n",
            "Country(name='Latvia', alpha2='LV', alpha3='LVA', numeric='428', apolitical_name='Latvia')\n",
            "Country(name='Lebanon', alpha2='LB', alpha3='LBN', numeric='422', apolitical_name='Lebanon')\n",
            "Country(name='Lesotho', alpha2='LS', alpha3='LSO', numeric='426', apolitical_name='Lesotho')\n",
            "Country(name='Liberia', alpha2='LR', alpha3='LBR', numeric='430', apolitical_name='Liberia')\n",
            "Country(name='Libya', alpha2='LY', alpha3='LBY', numeric='434', apolitical_name='Libya')\n",
            "Country(name='Liechtenstein', alpha2='LI', alpha3='LIE', numeric='438', apolitical_name='Liechtenstein')\n",
            "Country(name='Lithuania', alpha2='LT', alpha3='LTU', numeric='440', apolitical_name='Lithuania')\n",
            "Country(name='Luxembourg', alpha2='LU', alpha3='LUX', numeric='442', apolitical_name='Luxembourg')\n",
            "Country(name='Macao', alpha2='MO', alpha3='MAC', numeric='446', apolitical_name='Macao')\n",
            "Country(name='North Macedonia', alpha2='MK', alpha3='MKD', numeric='807', apolitical_name='North Macedonia')\n",
            "Country(name='Madagascar', alpha2='MG', alpha3='MDG', numeric='450', apolitical_name='Madagascar')\n",
            "Country(name='Malawi', alpha2='MW', alpha3='MWI', numeric='454', apolitical_name='Malawi')\n",
            "Country(name='Malaysia', alpha2='MY', alpha3='MYS', numeric='458', apolitical_name='Malaysia')\n",
            "Country(name='Maldives', alpha2='MV', alpha3='MDV', numeric='462', apolitical_name='Maldives')\n",
            "Country(name='Mali', alpha2='ML', alpha3='MLI', numeric='466', apolitical_name='Mali')\n",
            "Country(name='Malta', alpha2='MT', alpha3='MLT', numeric='470', apolitical_name='Malta')\n",
            "Country(name='Marshall Islands', alpha2='MH', alpha3='MHL', numeric='584', apolitical_name='Marshall Islands')\n",
            "Country(name='Martinique', alpha2='MQ', alpha3='MTQ', numeric='474', apolitical_name='Martinique')\n",
            "Country(name='Mauritania', alpha2='MR', alpha3='MRT', numeric='478', apolitical_name='Mauritania')\n",
            "Country(name='Mauritius', alpha2='MU', alpha3='MUS', numeric='480', apolitical_name='Mauritius')\n",
            "Country(name='Mayotte', alpha2='YT', alpha3='MYT', numeric='175', apolitical_name='Mayotte')\n",
            "Country(name='Mexico', alpha2='MX', alpha3='MEX', numeric='484', apolitical_name='Mexico')\n",
            "Country(name='Micronesia, Federated States of', alpha2='FM', alpha3='FSM', numeric='583', apolitical_name='Micronesia, Federated States of')\n",
            "Country(name='Moldova, Republic of', alpha2='MD', alpha3='MDA', numeric='498', apolitical_name='Moldova, Republic of')\n",
            "Country(name='Monaco', alpha2='MC', alpha3='MCO', numeric='492', apolitical_name='Monaco')\n",
            "Country(name='Mongolia', alpha2='MN', alpha3='MNG', numeric='496', apolitical_name='Mongolia')\n",
            "Country(name='Montenegro', alpha2='ME', alpha3='MNE', numeric='499', apolitical_name='Montenegro')\n",
            "Country(name='Montserrat', alpha2='MS', alpha3='MSR', numeric='500', apolitical_name='Montserrat')\n",
            "Country(name='Morocco', alpha2='MA', alpha3='MAR', numeric='504', apolitical_name='Morocco')\n",
            "Country(name='Mozambique', alpha2='MZ', alpha3='MOZ', numeric='508', apolitical_name='Mozambique')\n",
            "Country(name='Myanmar', alpha2='MM', alpha3='MMR', numeric='104', apolitical_name='Myanmar')\n",
            "Country(name='Namibia', alpha2='NA', alpha3='NAM', numeric='516', apolitical_name='Namibia')\n",
            "Country(name='Nauru', alpha2='NR', alpha3='NRU', numeric='520', apolitical_name='Nauru')\n",
            "Country(name='Nepal', alpha2='NP', alpha3='NPL', numeric='524', apolitical_name='Nepal')\n",
            "Country(name='Netherlands', alpha2='NL', alpha3='NLD', numeric='528', apolitical_name='Netherlands')\n",
            "Country(name='New Caledonia', alpha2='NC', alpha3='NCL', numeric='540', apolitical_name='New Caledonia')\n",
            "Country(name='New Zealand', alpha2='NZ', alpha3='NZL', numeric='554', apolitical_name='New Zealand')\n",
            "Country(name='Nicaragua', alpha2='NI', alpha3='NIC', numeric='558', apolitical_name='Nicaragua')\n",
            "Country(name='Niger', alpha2='NE', alpha3='NER', numeric='562', apolitical_name='Niger')\n",
            "Country(name='Nigeria', alpha2='NG', alpha3='NGA', numeric='566', apolitical_name='Nigeria')\n",
            "Country(name='Niue', alpha2='NU', alpha3='NIU', numeric='570', apolitical_name='Niue')\n",
            "Country(name='Norfolk Island', alpha2='NF', alpha3='NFK', numeric='574', apolitical_name='Norfolk Island')\n",
            "Country(name='Northern Mariana Islands', alpha2='MP', alpha3='MNP', numeric='580', apolitical_name='Northern Mariana Islands')\n",
            "Country(name='Norway', alpha2='NO', alpha3='NOR', numeric='578', apolitical_name='Norway')\n",
            "Country(name='Oman', alpha2='OM', alpha3='OMN', numeric='512', apolitical_name='Oman')\n",
            "Country(name='Pakistan', alpha2='PK', alpha3='PAK', numeric='586', apolitical_name='Pakistan')\n",
            "Country(name='Palau', alpha2='PW', alpha3='PLW', numeric='585', apolitical_name='Palau')\n",
            "Country(name='Palestine, State of', alpha2='PS', alpha3='PSE', numeric='275', apolitical_name='Palestine')\n",
            "Country(name='Panama', alpha2='PA', alpha3='PAN', numeric='591', apolitical_name='Panama')\n",
            "Country(name='Papua New Guinea', alpha2='PG', alpha3='PNG', numeric='598', apolitical_name='Papua New Guinea')\n",
            "Country(name='Paraguay', alpha2='PY', alpha3='PRY', numeric='600', apolitical_name='Paraguay')\n",
            "Country(name='Peru', alpha2='PE', alpha3='PER', numeric='604', apolitical_name='Peru')\n",
            "Country(name='Philippines', alpha2='PH', alpha3='PHL', numeric='608', apolitical_name='Philippines')\n",
            "Country(name='Pitcairn', alpha2='PN', alpha3='PCN', numeric='612', apolitical_name='Pitcairn')\n",
            "Country(name='Poland', alpha2='PL', alpha3='POL', numeric='616', apolitical_name='Poland')\n",
            "Country(name='Portugal', alpha2='PT', alpha3='PRT', numeric='620', apolitical_name='Portugal')\n",
            "Country(name='Puerto Rico', alpha2='PR', alpha3='PRI', numeric='630', apolitical_name='Puerto Rico')\n",
            "Country(name='Qatar', alpha2='QA', alpha3='QAT', numeric='634', apolitical_name='Qatar')\n",
            "Country(name='Réunion', alpha2='RE', alpha3='REU', numeric='638', apolitical_name='Réunion')\n",
            "Country(name='Romania', alpha2='RO', alpha3='ROU', numeric='642', apolitical_name='Romania')\n",
            "Country(name='Russian Federation', alpha2='RU', alpha3='RUS', numeric='643', apolitical_name='Russian Federation')\n",
            "Country(name='Rwanda', alpha2='RW', alpha3='RWA', numeric='646', apolitical_name='Rwanda')\n",
            "Country(name='Saint Barthélemy', alpha2='BL', alpha3='BLM', numeric='652', apolitical_name='Saint Barthélemy')\n",
            "Country(name='Saint Helena, Ascension and Tristan da Cunha', alpha2='SH', alpha3='SHN', numeric='654', apolitical_name='Saint Helena, Ascension and Tristan da Cunha')\n",
            "Country(name='Saint Kitts and Nevis', alpha2='KN', alpha3='KNA', numeric='659', apolitical_name='Saint Kitts and Nevis')\n",
            "Country(name='Saint Lucia', alpha2='LC', alpha3='LCA', numeric='662', apolitical_name='Saint Lucia')\n",
            "Country(name='Saint Martin (French part)', alpha2='MF', alpha3='MAF', numeric='663', apolitical_name='Saint Martin (French part)')\n",
            "Country(name='Saint Pierre and Miquelon', alpha2='PM', alpha3='SPM', numeric='666', apolitical_name='Saint Pierre and Miquelon')\n",
            "Country(name='Saint Vincent and the Grenadines', alpha2='VC', alpha3='VCT', numeric='670', apolitical_name='Saint Vincent and the Grenadines')\n",
            "Country(name='Samoa', alpha2='WS', alpha3='WSM', numeric='882', apolitical_name='Samoa')\n",
            "Country(name='San Marino', alpha2='SM', alpha3='SMR', numeric='674', apolitical_name='San Marino')\n",
            "Country(name='Sao Tome and Principe', alpha2='ST', alpha3='STP', numeric='678', apolitical_name='Sao Tome and Principe')\n",
            "Country(name='Saudi Arabia', alpha2='SA', alpha3='SAU', numeric='682', apolitical_name='Saudi Arabia')\n",
            "Country(name='Senegal', alpha2='SN', alpha3='SEN', numeric='686', apolitical_name='Senegal')\n",
            "Country(name='Serbia', alpha2='RS', alpha3='SRB', numeric='688', apolitical_name='Serbia')\n",
            "Country(name='Seychelles', alpha2='SC', alpha3='SYC', numeric='690', apolitical_name='Seychelles')\n",
            "Country(name='Sierra Leone', alpha2='SL', alpha3='SLE', numeric='694', apolitical_name='Sierra Leone')\n",
            "Country(name='Singapore', alpha2='SG', alpha3='SGP', numeric='702', apolitical_name='Singapore')\n",
            "Country(name='Sint Maarten (Dutch part)', alpha2='SX', alpha3='SXM', numeric='534', apolitical_name='Sint Maarten (Dutch part)')\n",
            "Country(name='Slovakia', alpha2='SK', alpha3='SVK', numeric='703', apolitical_name='Slovakia')\n",
            "Country(name='Slovenia', alpha2='SI', alpha3='SVN', numeric='705', apolitical_name='Slovenia')\n",
            "Country(name='Solomon Islands', alpha2='SB', alpha3='SLB', numeric='090', apolitical_name='Solomon Islands')\n",
            "Country(name='Somalia', alpha2='SO', alpha3='SOM', numeric='706', apolitical_name='Somalia')\n",
            "Country(name='South Africa', alpha2='ZA', alpha3='ZAF', numeric='710', apolitical_name='South Africa')\n",
            "Country(name='South Georgia and the South Sandwich Islands', alpha2='GS', alpha3='SGS', numeric='239', apolitical_name='South Georgia and the South Sandwich Islands')\n",
            "Country(name='South Sudan', alpha2='SS', alpha3='SSD', numeric='728', apolitical_name='South Sudan')\n",
            "Country(name='Spain', alpha2='ES', alpha3='ESP', numeric='724', apolitical_name='Spain')\n",
            "Country(name='Sri Lanka', alpha2='LK', alpha3='LKA', numeric='144', apolitical_name='Sri Lanka')\n",
            "Country(name='Sudan', alpha2='SD', alpha3='SDN', numeric='729', apolitical_name='Sudan')\n",
            "Country(name='Suriname', alpha2='SR', alpha3='SUR', numeric='740', apolitical_name='Suriname')\n",
            "Country(name='Svalbard and Jan Mayen', alpha2='SJ', alpha3='SJM', numeric='744', apolitical_name='Svalbard and Jan Mayen')\n",
            "Country(name='Eswatini', alpha2='SZ', alpha3='SWZ', numeric='748', apolitical_name='Eswatini')\n",
            "Country(name='Sweden', alpha2='SE', alpha3='SWE', numeric='752', apolitical_name='Sweden')\n",
            "Country(name='Switzerland', alpha2='CH', alpha3='CHE', numeric='756', apolitical_name='Switzerland')\n",
            "Country(name='Syrian Arab Republic', alpha2='SY', alpha3='SYR', numeric='760', apolitical_name='Syrian Arab Republic')\n",
            "Country(name='Taiwan, Province of China', alpha2='TW', alpha3='TWN', numeric='158', apolitical_name='Taiwan')\n",
            "Country(name='Tajikistan', alpha2='TJ', alpha3='TJK', numeric='762', apolitical_name='Tajikistan')\n",
            "Country(name='Tanzania, United Republic of', alpha2='TZ', alpha3='TZA', numeric='834', apolitical_name='Tanzania, United Republic of')\n",
            "Country(name='Thailand', alpha2='TH', alpha3='THA', numeric='764', apolitical_name='Thailand')\n",
            "Country(name='Timor-Leste', alpha2='TL', alpha3='TLS', numeric='626', apolitical_name='Timor-Leste')\n",
            "Country(name='Togo', alpha2='TG', alpha3='TGO', numeric='768', apolitical_name='Togo')\n",
            "Country(name='Tokelau', alpha2='TK', alpha3='TKL', numeric='772', apolitical_name='Tokelau')\n",
            "Country(name='Tonga', alpha2='TO', alpha3='TON', numeric='776', apolitical_name='Tonga')\n",
            "Country(name='Trinidad and Tobago', alpha2='TT', alpha3='TTO', numeric='780', apolitical_name='Trinidad and Tobago')\n",
            "Country(name='Tunisia', alpha2='TN', alpha3='TUN', numeric='788', apolitical_name='Tunisia')\n",
            "Country(name='Turkey', alpha2='TR', alpha3='TUR', numeric='792', apolitical_name='Turkey')\n",
            "Country(name='Turkmenistan', alpha2='TM', alpha3='TKM', numeric='795', apolitical_name='Turkmenistan')\n",
            "Country(name='Turks and Caicos Islands', alpha2='TC', alpha3='TCA', numeric='796', apolitical_name='Turks and Caicos Islands')\n",
            "Country(name='Tuvalu', alpha2='TV', alpha3='TUV', numeric='798', apolitical_name='Tuvalu')\n",
            "Country(name='Uganda', alpha2='UG', alpha3='UGA', numeric='800', apolitical_name='Uganda')\n",
            "Country(name='Ukraine', alpha2='UA', alpha3='UKR', numeric='804', apolitical_name='Ukraine')\n",
            "Country(name='United Arab Emirates', alpha2='AE', alpha3='ARE', numeric='784', apolitical_name='United Arab Emirates')\n",
            "Country(name='United Kingdom of Great Britain and Northern Ireland', alpha2='GB', alpha3='GBR', numeric='826', apolitical_name='United Kingdom of Great Britain and Northern Ireland')\n",
            "Country(name='United States of America', alpha2='US', alpha3='USA', numeric='840', apolitical_name='United States of America')\n",
            "Country(name='United States Minor Outlying Islands', alpha2='UM', alpha3='UMI', numeric='581', apolitical_name='United States Minor Outlying Islands')\n",
            "Country(name='Uruguay', alpha2='UY', alpha3='URY', numeric='858', apolitical_name='Uruguay')\n",
            "Country(name='Uzbekistan', alpha2='UZ', alpha3='UZB', numeric='860', apolitical_name='Uzbekistan')\n",
            "Country(name='Vanuatu', alpha2='VU', alpha3='VUT', numeric='548', apolitical_name='Vanuatu')\n",
            "Country(name='Venezuela, Bolivarian Republic of', alpha2='VE', alpha3='VEN', numeric='862', apolitical_name='Venezuela, Bolivarian Republic of')\n",
            "Country(name='Viet Nam', alpha2='VN', alpha3='VNM', numeric='704', apolitical_name='Viet Nam')\n",
            "Country(name='Virgin Islands, British', alpha2='VG', alpha3='VGB', numeric='092', apolitical_name='Virgin Islands, British')\n",
            "Country(name='Virgin Islands, U.S.', alpha2='VI', alpha3='VIR', numeric='850', apolitical_name='Virgin Islands, U.S.')\n",
            "Country(name='Wallis and Futuna', alpha2='WF', alpha3='WLF', numeric='876', apolitical_name='Wallis and Futuna')\n",
            "Country(name='Western Sahara', alpha2='EH', alpha3='ESH', numeric='732', apolitical_name='Western Sahara')\n",
            "Country(name='Yemen', alpha2='YE', alpha3='YEM', numeric='887', apolitical_name='Yemen')\n",
            "Country(name='Zambia', alpha2='ZM', alpha3='ZMB', numeric='894', apolitical_name='Zambia')\n",
            "Country(name='Zimbabwe', alpha2='ZW', alpha3='ZWE', numeric='716', apolitical_name='Zimbabwe')\n"
          ],
          "name": "stdout"
        }
      ]
    },
    {
      "cell_type": "code",
      "metadata": {
        "colab": {
          "base_uri": "https://localhost:8080/"
        },
        "id": "ku8hpxKSbpI3",
        "outputId": "928330af-3364-4b5d-f2c2-ace11e70ae07"
      },
      "source": [
        "!pip install pycountry"
      ],
      "execution_count": null,
      "outputs": [
        {
          "output_type": "stream",
          "text": [
            "Requirement already satisfied: pycountry in /usr/local/lib/python3.7/dist-packages (20.7.3)\n"
          ],
          "name": "stdout"
        }
      ]
    },
    {
      "cell_type": "code",
      "metadata": {
        "id": "jJ7orRGHb0l3"
      },
      "source": [
        "a=pycountry.countries.get(alpha_2='GB')"
      ],
      "execution_count": null,
      "outputs": []
    },
    {
      "cell_type": "code",
      "metadata": {
        "colab": {
          "base_uri": "https://localhost:8080/"
        },
        "id": "r3gt95PMb4Tr",
        "outputId": "21d2e354-b66b-4282-96cb-1569aee1052c"
      },
      "source": [
        "print(a)"
      ],
      "execution_count": null,
      "outputs": [
        {
          "output_type": "stream",
          "text": [
            "Country(alpha_2='GB', alpha_3='GBR', name='United Kingdom', numeric='826', official_name='United Kingdom of Great Britain and Northern Ireland')\n"
          ],
          "name": "stdout"
        }
      ]
    }
  ]
}