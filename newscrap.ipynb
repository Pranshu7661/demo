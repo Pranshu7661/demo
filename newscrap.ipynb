{
  "nbformat": 4,
  "nbformat_minor": 0,
  "metadata": {
    "colab": {
      "name": "newscrap.ipynb",
      "provenance": [],
      "collapsed_sections": []
    },
    "kernelspec": {
      "name": "python3",
      "display_name": "Python 3"
    }
  },
  "cells": [
    {
      "cell_type": "code",
      "metadata": {
        "id": "6R7hKM4AikcD"
      },
      "source": [
        "import pandas as pd\n",
        "import requests\n",
        "from bs4 import BeautifulSoup\n",
        "\n"
      ],
      "execution_count": null,
      "outputs": []
    },
    {
      "cell_type": "code",
      "metadata": {
        "colab": {
          "base_uri": "https://localhost:8080/"
        },
        "id": "QGGQKKvtwBOV",
        "outputId": "ffbb6fd3-3fd4-465b-ceb5-f55a64d50ddf"
      },
      "source": [
        "!pip install fake-useragent\n",
        "from requests import get\n",
        "from fake_useragent import UserAgent\n"
      ],
      "execution_count": null,
      "outputs": [
        {
          "output_type": "stream",
          "text": [
            "Requirement already satisfied: fake-useragent in /usr/local/lib/python3.7/dist-packages (0.1.11)\n"
          ],
          "name": "stdout"
        }
      ]
    },
    {
      "cell_type": "code",
      "metadata": {
        "colab": {
          "base_uri": "https://localhost:8080/"
        },
        "id": "a-z6ripOwoAY",
        "outputId": "35c5355a-fc94-4a80-c08e-a9b4e99c116e"
      },
      "source": [
        "ua = UserAgent()\n",
        "def lovely_soup(u):\n",
        "    r = get(u, headers={'User-Agent': ua.chrome})\n",
        "    return BeautifulSoup(r.text, 'lxml')\n",
        "\n",
        "url = 'https://www.reddit.com/r/Coronavirus/'\n",
        "soup = lovely_soup(url)\n",
        "\n",
        "titles = soup.findAll(attrs= {'class': '_2SdHzo12ISmrC8H86TgSCp _3wqmjmv3tb_k-PROt7qFZe '})\n",
        "posts=[]\n",
        "for title in titles:\n",
        "    # print(title.text)\n",
        "    posts.append(title.text)\n",
        "\n",
        "print(posts)\n",
        "del(posts[1])\n",
        "del(posts[2])\n",
        "print(posts)"
      ],
      "execution_count": null,
      "outputs": [
        {
          "output_type": "stream",
          "text": [
            "['Daily Discussion Thread | March 10, 2021', 'FAQ: COVID-19 and Ivermectin Intended for Animals', \"Austin, Texas' fourth-largest city, keeping mask mandate despite Gov. Greg Abbott's order\", 'Roguelike deckbuilder mixed with Mech simulation. Choose your Mech frame, customize equipment, and craft unique deck. Try different play styles: melee oriented heavy assault frame, stealth sniper, or just raw laser firepower.', 'Take whatever COVID vaccine you can get. All of them stop death and hospitalization.', '75% of educators are vaccinated in Colorado', 'US daily death toll from Covid-19 below 1,000 for first time in months']\n",
            "['Daily Discussion Thread | March 10, 2021', \"Austin, Texas' fourth-largest city, keeping mask mandate despite Gov. Greg Abbott's order\", 'Take whatever COVID vaccine you can get. All of them stop death and hospitalization.', '75% of educators are vaccinated in Colorado', 'US daily death toll from Covid-19 below 1,000 for first time in months']\n"
          ],
          "name": "stdout"
        }
      ]
    },
    {
      "cell_type": "code",
      "metadata": {
        "id": "fdTp5CBCYTG1"
      },
      "source": [
        "comment1 = []\n",
        "comment2 = []\n",
        "comment3 = []\n",
        "comment4 = []\n",
        "comment5 = []"
      ],
      "execution_count": null,
      "outputs": []
    },
    {
      "cell_type": "code",
      "metadata": {
        "id": "PpBYPH97yv7Z"
      },
      "source": [
        "url1 = 'https://www.reddit.com/r/Coronavirus/comments/m11uww/daily_discussion_thread_march_09_2021/'\n",
        "soup = lovely_soup(url1)\n",
        "\n",
        "titles1 = soup.findAll(attrs= {'class': '_292iotee39Lmt0MkQZ2hPV RichTextJSON-root'})\n"
      ],
      "execution_count": null,
      "outputs": []
    },
    {
      "cell_type": "code",
      "metadata": {
        "colab": {
          "base_uri": "https://localhost:8080/"
        },
        "id": "vRohoXceaGVk",
        "outputId": "6979dd04-1f70-4da1-f5b4-7f0a260f70c0"
      },
      "source": [
        "i= 1\n",
        "for title1 in titles1:\n",
        "    if i==6:\n",
        "      break\n",
        "    print(title1.text)\n",
        "    comment1.append(title1.text)\n",
        "    i+=1"
      ],
      "execution_count": null,
      "outputs": [
        {
          "output_type": "stream",
          "text": [
            "The World Health Organization maintains up-to-date and global information. Please refer to our Wiki for additional information. You can find answers to frequently asked questions about Covid-19 and vaccines in our FAQ.Johns Hopkins case trackerNY Times vaccine rollout trackerJoin the user-moderated Discord server (we do not manage this and are not responsible for it)Join r/COVID19 for scientific, reliably-sourced discussion. Rules are enforced more strictly there than here in r/Coronavirus.\n",
            "Please see our FAQ for answers to frequently asked questions such as questions regarding the COVID-19 vaccines. Any comments containing misinformation will be removed and the user potentially banned.I am a bot, and this action was performed automatically. Please contact the moderators of this subreddit if you have any questions or concerns.\n",
            "anyone know what time CVS releases new appointments?\n",
            "Does anyone know why cases are increasing in Italy?\n",
            "Restrictions were sufficient to keep infections level from early December to mid-February, but now British variant has become dominant and existing restrictions are not enough any more.\n"
          ],
          "name": "stdout"
        }
      ]
    },
    {
      "cell_type": "code",
      "metadata": {
        "colab": {
          "base_uri": "https://localhost:8080/"
        },
        "id": "GTsg9zRR0C6z",
        "outputId": "667c925d-2536-493e-8df0-93df5a1ea5b5"
      },
      "source": [
        "url3 = 'https://www.reddit.com/r/Coronavirus/comments/m1h1xa/austin_texas_fourthlargest_city_keeping_mask/'\n",
        "soup = lovely_soup(url3)\n",
        "\n",
        "titles3 = soup.findAll(attrs= {'class': '_292iotee39Lmt0MkQZ2hPV RichTextJSON-root'})\n",
        "i=1\n",
        "for title3 in titles3:\n",
        "    if i==6:\n",
        "      break\n",
        "    print(title3.text)\n",
        "    comment2.append(title3.text)\n",
        "    i+=1"
      ],
      "execution_count": null,
      "outputs": [
        {
          "output_type": "stream",
          "text": [
            "Screaming matches here we come.\n",
            "What happens in Texas is the state does something stupid and Austin opts out. That upsets Master Abbott quite a bit so he calls an emergency session of Congress to pass a law forbidding Austin from opting out.Similarly, Austin will pass a law that makes sense sometimes. Master Abbott will again call an emergency session and pass a law to make the state law the exact opposite.They don’t seem to do this to Houston. It’s rather annoying.\n",
            "Itll be great when the state government starts pushing around city government when they're all about \"small government\"\n",
            "They've started in Houston. I have a friend with a restaurant. Masks are required at the restaurant. Someone entered without a mask and was unnoticed. Another diner started screaming at the maskless diner and my friend. \"You're a murderer! You're a murder!\" Thanks Abbot. Thanks Trump.\n",
            "Did Adler announce this from a resort beach in Mexico while sipping margaritas? No better than Cruz. They’re both PoS\n"
          ],
          "name": "stdout"
        }
      ]
    },
    {
      "cell_type": "code",
      "metadata": {
        "colab": {
          "base_uri": "https://localhost:8080/"
        },
        "id": "93UkoclL1uk5",
        "outputId": "375bdcdb-0381-4ddd-ef35-249946618029"
      },
      "source": [
        "url5 = 'https://www.reddit.com/r/Coronavirus/comments/m1ada1/take_whatever_covid_vaccine_you_can_get_all_of/'\n",
        "soup = lovely_soup(url5)\n",
        "\n",
        "titles5 = soup.findAll(attrs= {'class': '_292iotee39Lmt0MkQZ2hPV RichTextJSON-root'})\n",
        "\n",
        "i = 1\n",
        "for title5 in titles5:\n",
        "    if i==6:\n",
        "      break\n",
        "    print(title5.text)\n",
        "    comment3.append(title5.text)\n",
        "    i+=1"
      ],
      "execution_count": null,
      "outputs": [
        {
          "output_type": "stream",
          "text": [
            "The problem is I can't get one.\n",
            "at 12 AM search walmart.com stores as they release their schedule for the next available day a week out at that time.\n",
            "Call your local pharmacies to see if they have a waitlist you can get on for extra doses that would be thrown out if no one uses them\n",
            "This...\"Go and get vaccinated, everyone!\"\"OK, gimme one\"\"NO!!!!\"what the actual fuck...\n",
            "Woo just got my J&J! Not scheduled until May, but SWIK called me about extra vaccines at a school clinic.\n"
          ],
          "name": "stdout"
        }
      ]
    },
    {
      "cell_type": "code",
      "metadata": {
        "colab": {
          "base_uri": "https://localhost:8080/"
        },
        "id": "LHxsXmRw2WNN",
        "outputId": "717f56c9-47c0-4c9c-93e2-707367fb35ba"
      },
      "source": [
        "url7 = 'https://www.reddit.com/r/Coronavirus/comments/m1ixqq/75_of_educators_are_vaccinated_in_colorado/'\n",
        "soup = lovely_soup(url7)\n",
        "\n",
        "titles7 = soup.findAll(attrs= {'class': '_292iotee39Lmt0MkQZ2hPV RichTextJSON-root'})\n",
        "\n",
        "\n",
        "i = 1\n",
        "for title7 in titles7:\n",
        "    if i==6:\n",
        "      break\n",
        "    print(title7.text)\n",
        "    comment4.append(title7.text)\n",
        "    i+=1"
      ],
      "execution_count": null,
      "outputs": [
        {
          "output_type": "stream",
          "text": [
            "This post appears to be about vaccines, please see our FAQ for answers to frequently asked questions regarding the COVID-19 vaccines. Any comment containing misinformation will be removed and the user potentially banned.I am a bot, and this action was performed automatically. Please contact the moderators of this subreddit if you have any questions or concerns.\n",
            "Why bring the teachers to colorado ? Can't they vaccinate them in their home states?\n",
            "Just take your upvote and leave\n",
            "He’s here all week folks.\n",
            "It would be nice to travel to Colorado for vaccination.\n"
          ],
          "name": "stdout"
        }
      ]
    },
    {
      "cell_type": "code",
      "metadata": {
        "colab": {
          "base_uri": "https://localhost:8080/"
        },
        "id": "G-iE4zzhy0rP",
        "outputId": "edcf2e67-8354-4919-bff7-94eef43203c1"
      },
      "source": [
        "url6 = 'https://www.reddit.com/r/Coronavirus/comments/m136d0/us_daily_death_toll_from_covid19_below_1000_for/'\n",
        "soup = lovely_soup(url6)\n",
        "\n",
        "titles6 = soup.findAll(attrs= {'class': '_292iotee39Lmt0MkQZ2hPV RichTextJSON-root'})\n",
        "\n",
        "i = 1\n",
        "for title6 in titles6:\n",
        "    if i==6:\n",
        "      break\n",
        "    print(title6.text)\n",
        "    comment5.append(title6.text)\n",
        "    i+=1\n"
      ],
      "execution_count": null,
      "outputs": [
        {
          "output_type": "stream",
          "text": [
            "Illinois reported 5. FIVE. Our high was 258.It’s insane.\n",
            "Plot twist, there were only a handful people left.\n",
            "Four in KS.I dunno what's happening in Virginia, though.\n",
            "Chicagoan here. I'm so blown away by the response of Pritzker et all, and of course the residents. For a huge city like ours to get the numbers down so much during one of the coldest February streaks in decades is truly astounding and something to be proud of.\n",
            "Nevada is usually 5 to 20 but I'm not sure if we ever made it to 100. Our population is super low compared though I'm guessing. I find it strange because the positives cases and the test positivity rate is super low now but it seems like the death haven't really changed or lowered all that much except maybe when it was really bad in December and January.\n"
          ],
          "name": "stdout"
        }
      ]
    },
    {
      "cell_type": "markdown",
      "metadata": {
        "id": "DoD2ZCd3b9lL"
      },
      "source": [
        "post[0] - comment1[0] comment1[1] ..... comment1[4]\n",
        "\n",
        "post[1] - comment2[0] comment2[1] ..... comment2[4]"
      ]
    },
    {
      "cell_type": "code",
      "metadata": {
        "id": "sKwMMOh5dMJc"
      },
      "source": [
        "d =  {'posts': posts}"
      ],
      "execution_count": null,
      "outputs": []
    },
    {
      "cell_type": "code",
      "metadata": {
        "id": "Ms_sagyme0JQ"
      },
      "source": [
        "coms = {0: comment1,1: comment2,2: comment3,3: comment4,4: comment5 }"
      ],
      "execution_count": null,
      "outputs": []
    },
    {
      "cell_type": "code",
      "metadata": {
        "colab": {
          "base_uri": "https://localhost:8080/"
        },
        "id": "YaybWz7MfMHc",
        "outputId": "e7c3e4c5-a584-45bb-f70c-4574fce879f6"
      },
      "source": [
        "comments = pd.DataFrame(data=coms)\n",
        "comments_trans = comments.T\n",
        "comments.head()"
      ],
      "execution_count": null,
      "outputs": [
        {
          "output_type": "execute_result",
          "data": {
            "text/html": [
              "<div>\n",
              "<style scoped>\n",
              "    .dataframe tbody tr th:only-of-type {\n",
              "        vertical-align: middle;\n",
              "    }\n",
              "\n",
              "    .dataframe tbody tr th {\n",
              "        vertical-align: top;\n",
              "    }\n",
              "\n",
              "    .dataframe thead th {\n",
              "        text-align: right;\n",
              "    }\n",
              "</style>\n",
              "<table border=\"1\" class=\"dataframe\">\n",
              "  <thead>\n",
              "    <tr style=\"text-align: right;\">\n",
              "      <th></th>\n",
              "      <th>0</th>\n",
              "      <th>1</th>\n",
              "      <th>2</th>\n",
              "      <th>3</th>\n",
              "      <th>4</th>\n",
              "    </tr>\n",
              "  </thead>\n",
              "  <tbody>\n",
              "    <tr>\n",
              "      <th>0</th>\n",
              "      <td>The World Health Organization maintains up-to-...</td>\n",
              "      <td>Screaming matches here we come.</td>\n",
              "      <td>The problem is I can't get one.</td>\n",
              "      <td>This post appears to be about vaccines, please...</td>\n",
              "      <td>Illinois reported 5. FIVE. Our high was 258.It...</td>\n",
              "    </tr>\n",
              "    <tr>\n",
              "      <th>1</th>\n",
              "      <td>Please see our FAQ for answers to frequently a...</td>\n",
              "      <td>What happens in Texas is the state does someth...</td>\n",
              "      <td>at 12 AM search walmart.com stores as they rel...</td>\n",
              "      <td>Why bring the teachers to colorado ? Can't the...</td>\n",
              "      <td>Plot twist, there were only a handful people l...</td>\n",
              "    </tr>\n",
              "    <tr>\n",
              "      <th>2</th>\n",
              "      <td>anyone know what time CVS releases new appoint...</td>\n",
              "      <td>Itll be great when the state government starts...</td>\n",
              "      <td>Call your local pharmacies to see if they have...</td>\n",
              "      <td>Just take your upvote and leave</td>\n",
              "      <td>Four in KS.I dunno what's happening in Virgini...</td>\n",
              "    </tr>\n",
              "    <tr>\n",
              "      <th>3</th>\n",
              "      <td>Does anyone know why cases are increasing in I...</td>\n",
              "      <td>They've started in Houston. I have a friend wi...</td>\n",
              "      <td>This...\"Go and get vaccinated, everyone!\"\"OK, ...</td>\n",
              "      <td>He’s here all week folks.</td>\n",
              "      <td>Chicagoan here. I'm so blown away by the respo...</td>\n",
              "    </tr>\n",
              "    <tr>\n",
              "      <th>4</th>\n",
              "      <td>Restrictions were sufficient to keep infection...</td>\n",
              "      <td>Did Adler announce this from a resort beach in...</td>\n",
              "      <td>Woo just got my J&amp;J! Not scheduled until May, ...</td>\n",
              "      <td>It would be nice to travel to Colorado for vac...</td>\n",
              "      <td>Nevada is usually 5 to 20 but I'm not sure if ...</td>\n",
              "    </tr>\n",
              "  </tbody>\n",
              "</table>\n",
              "</div>"
            ],
            "text/plain": [
              "                                                   0  ...                                                  4\n",
              "0  The World Health Organization maintains up-to-...  ...  Illinois reported 5. FIVE. Our high was 258.It...\n",
              "1  Please see our FAQ for answers to frequently a...  ...  Plot twist, there were only a handful people l...\n",
              "2  anyone know what time CVS releases new appoint...  ...  Four in KS.I dunno what's happening in Virgini...\n",
              "3  Does anyone know why cases are increasing in I...  ...  Chicagoan here. I'm so blown away by the respo...\n",
              "4  Restrictions were sufficient to keep infection...  ...  Nevada is usually 5 to 20 but I'm not sure if ...\n",
              "\n",
              "[5 rows x 5 columns]"
            ]
          },
          "metadata": {
            "tags": []
          },
          "execution_count": 74
        }
      ]
    },
    {
      "cell_type": "code",
      "metadata": {
        "colab": {
          "base_uri": "https://localhost:8080/"
        },
        "id": "InR4qFOAhivl",
        "outputId": "43a87586-eb36-439e-fa42-e38d74e69f21"
      },
      "source": [
        "comments_trans.head()"
      ],
      "execution_count": null,
      "outputs": [
        {
          "output_type": "execute_result",
          "data": {
            "text/html": [
              "<div>\n",
              "<style scoped>\n",
              "    .dataframe tbody tr th:only-of-type {\n",
              "        vertical-align: middle;\n",
              "    }\n",
              "\n",
              "    .dataframe tbody tr th {\n",
              "        vertical-align: top;\n",
              "    }\n",
              "\n",
              "    .dataframe thead th {\n",
              "        text-align: right;\n",
              "    }\n",
              "</style>\n",
              "<table border=\"1\" class=\"dataframe\">\n",
              "  <thead>\n",
              "    <tr style=\"text-align: right;\">\n",
              "      <th></th>\n",
              "      <th>0</th>\n",
              "      <th>1</th>\n",
              "      <th>2</th>\n",
              "      <th>3</th>\n",
              "      <th>4</th>\n",
              "    </tr>\n",
              "  </thead>\n",
              "  <tbody>\n",
              "    <tr>\n",
              "      <th>0</th>\n",
              "      <td>The World Health Organization maintains up-to-...</td>\n",
              "      <td>Please see our FAQ for answers to frequently a...</td>\n",
              "      <td>anyone know what time CVS releases new appoint...</td>\n",
              "      <td>Does anyone know why cases are increasing in I...</td>\n",
              "      <td>Restrictions were sufficient to keep infection...</td>\n",
              "    </tr>\n",
              "    <tr>\n",
              "      <th>1</th>\n",
              "      <td>Screaming matches here we come.</td>\n",
              "      <td>What happens in Texas is the state does someth...</td>\n",
              "      <td>Itll be great when the state government starts...</td>\n",
              "      <td>They've started in Houston. I have a friend wi...</td>\n",
              "      <td>Did Adler announce this from a resort beach in...</td>\n",
              "    </tr>\n",
              "    <tr>\n",
              "      <th>2</th>\n",
              "      <td>The problem is I can't get one.</td>\n",
              "      <td>at 12 AM search walmart.com stores as they rel...</td>\n",
              "      <td>Call your local pharmacies to see if they have...</td>\n",
              "      <td>This...\"Go and get vaccinated, everyone!\"\"OK, ...</td>\n",
              "      <td>Woo just got my J&amp;J! Not scheduled until May, ...</td>\n",
              "    </tr>\n",
              "    <tr>\n",
              "      <th>3</th>\n",
              "      <td>This post appears to be about vaccines, please...</td>\n",
              "      <td>Why bring the teachers to colorado ? Can't the...</td>\n",
              "      <td>Just take your upvote and leave</td>\n",
              "      <td>He’s here all week folks.</td>\n",
              "      <td>It would be nice to travel to Colorado for vac...</td>\n",
              "    </tr>\n",
              "    <tr>\n",
              "      <th>4</th>\n",
              "      <td>Illinois reported 5. FIVE. Our high was 258.It...</td>\n",
              "      <td>Plot twist, there were only a handful people l...</td>\n",
              "      <td>Four in KS.I dunno what's happening in Virgini...</td>\n",
              "      <td>Chicagoan here. I'm so blown away by the respo...</td>\n",
              "      <td>Nevada is usually 5 to 20 but I'm not sure if ...</td>\n",
              "    </tr>\n",
              "  </tbody>\n",
              "</table>\n",
              "</div>"
            ],
            "text/plain": [
              "                                                   0  ...                                                  4\n",
              "0  The World Health Organization maintains up-to-...  ...  Restrictions were sufficient to keep infection...\n",
              "1                    Screaming matches here we come.  ...  Did Adler announce this from a resort beach in...\n",
              "2                    The problem is I can't get one.  ...  Woo just got my J&J! Not scheduled until May, ...\n",
              "3  This post appears to be about vaccines, please...  ...  It would be nice to travel to Colorado for vac...\n",
              "4  Illinois reported 5. FIVE. Our high was 258.It...  ...  Nevada is usually 5 to 20 but I'm not sure if ...\n",
              "\n",
              "[5 rows x 5 columns]"
            ]
          },
          "metadata": {
            "tags": []
          },
          "execution_count": 75
        }
      ]
    },
    {
      "cell_type": "code",
      "metadata": {
        "id": "1kWOt1pGb6iy"
      },
      "source": [
        "data_final = pd.DataFrame(data = d,columns=[\"posts\"])\n"
      ],
      "execution_count": null,
      "outputs": []
    },
    {
      "cell_type": "code",
      "metadata": {
        "colab": {
          "base_uri": "https://localhost:8080/"
        },
        "id": "mF_Pj9c5cYBl",
        "outputId": "76df9f77-c9c8-4c0a-8edc-6166ffc0d9e5"
      },
      "source": [
        "data_final.head()"
      ],
      "execution_count": null,
      "outputs": [
        {
          "output_type": "execute_result",
          "data": {
            "text/html": [
              "<div>\n",
              "<style scoped>\n",
              "    .dataframe tbody tr th:only-of-type {\n",
              "        vertical-align: middle;\n",
              "    }\n",
              "\n",
              "    .dataframe tbody tr th {\n",
              "        vertical-align: top;\n",
              "    }\n",
              "\n",
              "    .dataframe thead th {\n",
              "        text-align: right;\n",
              "    }\n",
              "</style>\n",
              "<table border=\"1\" class=\"dataframe\">\n",
              "  <thead>\n",
              "    <tr style=\"text-align: right;\">\n",
              "      <th></th>\n",
              "      <th>posts</th>\n",
              "    </tr>\n",
              "  </thead>\n",
              "  <tbody>\n",
              "    <tr>\n",
              "      <th>0</th>\n",
              "      <td>Daily Discussion Thread | March 10, 2021</td>\n",
              "    </tr>\n",
              "    <tr>\n",
              "      <th>1</th>\n",
              "      <td>Austin, Texas' fourth-largest city, keeping ma...</td>\n",
              "    </tr>\n",
              "    <tr>\n",
              "      <th>2</th>\n",
              "      <td>Take whatever COVID vaccine you can get. All o...</td>\n",
              "    </tr>\n",
              "    <tr>\n",
              "      <th>3</th>\n",
              "      <td>75% of educators are vaccinated in Colorado</td>\n",
              "    </tr>\n",
              "    <tr>\n",
              "      <th>4</th>\n",
              "      <td>US daily death toll from Covid-19 below 1,000 ...</td>\n",
              "    </tr>\n",
              "  </tbody>\n",
              "</table>\n",
              "</div>"
            ],
            "text/plain": [
              "                                               posts\n",
              "0           Daily Discussion Thread | March 10, 2021\n",
              "1  Austin, Texas' fourth-largest city, keeping ma...\n",
              "2  Take whatever COVID vaccine you can get. All o...\n",
              "3        75% of educators are vaccinated in Colorado\n",
              "4  US daily death toll from Covid-19 below 1,000 ..."
            ]
          },
          "metadata": {
            "tags": []
          },
          "execution_count": 77
        }
      ]
    },
    {
      "cell_type": "code",
      "metadata": {
        "id": "Rcpv3LoYga4e"
      },
      "source": [
        "data_final = data_final.join(comments_trans)"
      ],
      "execution_count": null,
      "outputs": []
    },
    {
      "cell_type": "code",
      "metadata": {
        "colab": {
          "base_uri": "https://localhost:8080/"
        },
        "id": "yDovRzNg4_B4",
        "outputId": "7b991e58-9d61-4658-a54e-3f87a458e808"
      },
      "source": [
        "data_final.head()"
      ],
      "execution_count": null,
      "outputs": [
        {
          "output_type": "execute_result",
          "data": {
            "text/html": [
              "<div>\n",
              "<style scoped>\n",
              "    .dataframe tbody tr th:only-of-type {\n",
              "        vertical-align: middle;\n",
              "    }\n",
              "\n",
              "    .dataframe tbody tr th {\n",
              "        vertical-align: top;\n",
              "    }\n",
              "\n",
              "    .dataframe thead th {\n",
              "        text-align: right;\n",
              "    }\n",
              "</style>\n",
              "<table border=\"1\" class=\"dataframe\">\n",
              "  <thead>\n",
              "    <tr style=\"text-align: right;\">\n",
              "      <th></th>\n",
              "      <th>posts</th>\n",
              "      <th>0</th>\n",
              "      <th>1</th>\n",
              "      <th>2</th>\n",
              "      <th>3</th>\n",
              "      <th>4</th>\n",
              "    </tr>\n",
              "  </thead>\n",
              "  <tbody>\n",
              "    <tr>\n",
              "      <th>0</th>\n",
              "      <td>Daily Discussion Thread | March 10, 2021</td>\n",
              "      <td>The World Health Organization maintains up-to-...</td>\n",
              "      <td>Please see our FAQ for answers to frequently a...</td>\n",
              "      <td>anyone know what time CVS releases new appoint...</td>\n",
              "      <td>Does anyone know why cases are increasing in I...</td>\n",
              "      <td>Restrictions were sufficient to keep infection...</td>\n",
              "    </tr>\n",
              "    <tr>\n",
              "      <th>1</th>\n",
              "      <td>Austin, Texas' fourth-largest city, keeping ma...</td>\n",
              "      <td>Screaming matches here we come.</td>\n",
              "      <td>What happens in Texas is the state does someth...</td>\n",
              "      <td>Itll be great when the state government starts...</td>\n",
              "      <td>They've started in Houston. I have a friend wi...</td>\n",
              "      <td>Did Adler announce this from a resort beach in...</td>\n",
              "    </tr>\n",
              "    <tr>\n",
              "      <th>2</th>\n",
              "      <td>Take whatever COVID vaccine you can get. All o...</td>\n",
              "      <td>The problem is I can't get one.</td>\n",
              "      <td>at 12 AM search walmart.com stores as they rel...</td>\n",
              "      <td>Call your local pharmacies to see if they have...</td>\n",
              "      <td>This...\"Go and get vaccinated, everyone!\"\"OK, ...</td>\n",
              "      <td>Woo just got my J&amp;J! Not scheduled until May, ...</td>\n",
              "    </tr>\n",
              "    <tr>\n",
              "      <th>3</th>\n",
              "      <td>75% of educators are vaccinated in Colorado</td>\n",
              "      <td>This post appears to be about vaccines, please...</td>\n",
              "      <td>Why bring the teachers to colorado ? Can't the...</td>\n",
              "      <td>Just take your upvote and leave</td>\n",
              "      <td>He’s here all week folks.</td>\n",
              "      <td>It would be nice to travel to Colorado for vac...</td>\n",
              "    </tr>\n",
              "    <tr>\n",
              "      <th>4</th>\n",
              "      <td>US daily death toll from Covid-19 below 1,000 ...</td>\n",
              "      <td>Illinois reported 5. FIVE. Our high was 258.It...</td>\n",
              "      <td>Plot twist, there were only a handful people l...</td>\n",
              "      <td>Four in KS.I dunno what's happening in Virgini...</td>\n",
              "      <td>Chicagoan here. I'm so blown away by the respo...</td>\n",
              "      <td>Nevada is usually 5 to 20 but I'm not sure if ...</td>\n",
              "    </tr>\n",
              "  </tbody>\n",
              "</table>\n",
              "</div>"
            ],
            "text/plain": [
              "                                               posts  ...                                                  4\n",
              "0           Daily Discussion Thread | March 10, 2021  ...  Restrictions were sufficient to keep infection...\n",
              "1  Austin, Texas' fourth-largest city, keeping ma...  ...  Did Adler announce this from a resort beach in...\n",
              "2  Take whatever COVID vaccine you can get. All o...  ...  Woo just got my J&J! Not scheduled until May, ...\n",
              "3        75% of educators are vaccinated in Colorado  ...  It would be nice to travel to Colorado for vac...\n",
              "4  US daily death toll from Covid-19 below 1,000 ...  ...  Nevada is usually 5 to 20 but I'm not sure if ...\n",
              "\n",
              "[5 rows x 6 columns]"
            ]
          },
          "metadata": {
            "tags": []
          },
          "execution_count": 79
        }
      ]
    },
    {
      "cell_type": "code",
      "metadata": {
        "id": "bXdttAVsOhT9"
      },
      "source": [
        "data_final.to_csv(\"final2.csv\")"
      ],
      "execution_count": null,
      "outputs": []
    },
    {
      "cell_type": "code",
      "metadata": {
        "id": "yxBnXZVQQBdm",
        "colab": {
          "base_uri": "https://localhost:8080/",
          "height": 17
        },
        "outputId": "4eabb659-ac8e-4555-ce66-f8fed7afaa7c"
      },
      "source": [
        "from google.colab import files\n",
        "files.download('final2.csv') "
      ],
      "execution_count": null,
      "outputs": [
        {
          "output_type": "display_data",
          "data": {
            "application/javascript": [
              "\n",
              "    async function download(id, filename, size) {\n",
              "      if (!google.colab.kernel.accessAllowed) {\n",
              "        return;\n",
              "      }\n",
              "      const div = document.createElement('div');\n",
              "      const label = document.createElement('label');\n",
              "      label.textContent = `Downloading \"${filename}\": `;\n",
              "      div.appendChild(label);\n",
              "      const progress = document.createElement('progress');\n",
              "      progress.max = size;\n",
              "      div.appendChild(progress);\n",
              "      document.body.appendChild(div);\n",
              "\n",
              "      const buffers = [];\n",
              "      let downloaded = 0;\n",
              "\n",
              "      const channel = await google.colab.kernel.comms.open(id);\n",
              "      // Send a message to notify the kernel that we're ready.\n",
              "      channel.send({})\n",
              "\n",
              "      for await (const message of channel.messages) {\n",
              "        // Send a message to notify the kernel that we're ready.\n",
              "        channel.send({})\n",
              "        if (message.buffers) {\n",
              "          for (const buffer of message.buffers) {\n",
              "            buffers.push(buffer);\n",
              "            downloaded += buffer.byteLength;\n",
              "            progress.value = downloaded;\n",
              "          }\n",
              "        }\n",
              "      }\n",
              "      const blob = new Blob(buffers, {type: 'application/binary'});\n",
              "      const a = document.createElement('a');\n",
              "      a.href = window.URL.createObjectURL(blob);\n",
              "      a.download = filename;\n",
              "      div.appendChild(a);\n",
              "      a.click();\n",
              "      div.remove();\n",
              "    }\n",
              "  "
            ],
            "text/plain": [
              "<IPython.core.display.Javascript object>"
            ]
          },
          "metadata": {
            "tags": []
          }
        },
        {
          "output_type": "display_data",
          "data": {
            "application/javascript": [
              "download(\"download_a220d4a2-5858-461b-ba33-d1f299e2af43\", \"final2.csv\", 4357)"
            ],
            "text/plain": [
              "<IPython.core.display.Javascript object>"
            ]
          },
          "metadata": {
            "tags": []
          }
        }
      ]
    }
  ]
}